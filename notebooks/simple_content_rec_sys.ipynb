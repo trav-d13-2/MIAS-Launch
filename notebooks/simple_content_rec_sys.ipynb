{
 "cells": [
  {
   "cell_type": "code",
   "execution_count": 120,
   "id": "de2a0768-22dd-462f-b70d-271c4587cd17",
   "metadata": {},
   "outputs": [],
   "source": [
    "import pandas as pd\n",
    "import numpy as np\n",
    "import matplotlib.pyplot as plt\n",
    "\n",
    "from sklearn.feature_extraction.text import TfidfVectorizer\n",
    "from sklearn.metrics.pairwise import cosine_similarity, euclidean_distances"
   ]
  },
  {
   "cell_type": "markdown",
   "id": "3c956615-ec7c-4ab1-8559-d01977e0f81d",
   "metadata": {},
   "source": [
    "# Content Filtering Recommendation System\n",
    "A simple content filtering recommendation system to better understand the concepts. \\\n",
    "Source: https://github.com/BadreeshShetty/Learnings-to-make-Recommedations "
   ]
  },
  {
   "cell_type": "code",
   "execution_count": 184,
   "id": "464b8507-00f5-41be-81a4-56e3d07145ea",
   "metadata": {},
   "outputs": [],
   "source": [
    "df_mov = pd.read_csv('simple_rec_sys_data/movies.csv', index_col=0)"
   ]
  },
  {
   "cell_type": "code",
   "execution_count": 185,
   "id": "8bfd8bd9-82dd-4c58-b43f-185eb5b62a07",
   "metadata": {},
   "outputs": [
    {
     "data": {
      "text/html": [
       "<div>\n",
       "<style scoped>\n",
       "    .dataframe tbody tr th:only-of-type {\n",
       "        vertical-align: middle;\n",
       "    }\n",
       "\n",
       "    .dataframe tbody tr th {\n",
       "        vertical-align: top;\n",
       "    }\n",
       "\n",
       "    .dataframe thead th {\n",
       "        text-align: right;\n",
       "    }\n",
       "</style>\n",
       "<table border=\"1\" class=\"dataframe\">\n",
       "  <thead>\n",
       "    <tr style=\"text-align: right;\">\n",
       "      <th></th>\n",
       "      <th>title</th>\n",
       "      <th>genres</th>\n",
       "    </tr>\n",
       "    <tr>\n",
       "      <th>movieId</th>\n",
       "      <th></th>\n",
       "      <th></th>\n",
       "    </tr>\n",
       "  </thead>\n",
       "  <tbody>\n",
       "    <tr>\n",
       "      <th>1</th>\n",
       "      <td>Toy Story</td>\n",
       "      <td>Adventure|Animation|Children|Comedy|Fantasy</td>\n",
       "    </tr>\n",
       "    <tr>\n",
       "      <th>2</th>\n",
       "      <td>Jumanji</td>\n",
       "      <td>Adventure|Children|Fantasy</td>\n",
       "    </tr>\n",
       "    <tr>\n",
       "      <th>3</th>\n",
       "      <td>Grumpier Old Men</td>\n",
       "      <td>Comedy|Romance</td>\n",
       "    </tr>\n",
       "    <tr>\n",
       "      <th>4</th>\n",
       "      <td>Waiting to Exhale</td>\n",
       "      <td>Comedy|Drama|Romance</td>\n",
       "    </tr>\n",
       "    <tr>\n",
       "      <th>5</th>\n",
       "      <td>Father of the Bride Part II</td>\n",
       "      <td>Comedy</td>\n",
       "    </tr>\n",
       "  </tbody>\n",
       "</table>\n",
       "</div>"
      ],
      "text/plain": [
       "                               title  \\\n",
       "movieId                                \n",
       "1                          Toy Story   \n",
       "2                            Jumanji   \n",
       "3                   Grumpier Old Men   \n",
       "4                  Waiting to Exhale   \n",
       "5        Father of the Bride Part II   \n",
       "\n",
       "                                              genres  \n",
       "movieId                                               \n",
       "1        Adventure|Animation|Children|Comedy|Fantasy  \n",
       "2                         Adventure|Children|Fantasy  \n",
       "3                                     Comedy|Romance  \n",
       "4                               Comedy|Drama|Romance  \n",
       "5                                             Comedy  "
      ]
     },
     "execution_count": 185,
     "metadata": {},
     "output_type": "execute_result"
    }
   ],
   "source": [
    "df_mov.head()"
   ]
  },
  {
   "cell_type": "code",
   "execution_count": 186,
   "id": "d3788673-2f53-4361-85a8-527b1dcf2b57",
   "metadata": {},
   "outputs": [
    {
     "data": {
      "text/plain": [
       "(9742, 2)"
      ]
     },
     "execution_count": 186,
     "metadata": {},
     "output_type": "execute_result"
    }
   ],
   "source": [
    "df_mov.shape"
   ]
  },
  {
   "cell_type": "code",
   "execution_count": 187,
   "id": "e4103d36-7d61-46dc-a3de-45c025e1901b",
   "metadata": {},
   "outputs": [
    {
     "data": {
      "text/plain": [
       "title     object\n",
       "genres    object\n",
       "dtype: object"
      ]
     },
     "execution_count": 187,
     "metadata": {},
     "output_type": "execute_result"
    }
   ],
   "source": [
    "df_mov.dtypes"
   ]
  },
  {
   "cell_type": "markdown",
   "id": "b177ba89-2937-4926-833a-69a7d05da98f",
   "metadata": {},
   "source": [
    "## Correct Data Structure\n",
    "- Correct genres string structure\n",
    "- Determine null values\n",
    "- Determine if duplicates exist"
   ]
  },
  {
   "cell_type": "markdown",
   "id": "2ef23800-e39b-4efb-ac65-5289d2dc6247",
   "metadata": {},
   "source": [
    "Split the genres string into a list"
   ]
  },
  {
   "cell_type": "code",
   "execution_count": 188,
   "id": "f29be4b1-edf7-4f88-a79e-059b317abacd",
   "metadata": {},
   "outputs": [],
   "source": [
    "df_mov['genres'] = df_mov['genres'].str.split('|')"
   ]
  },
  {
   "cell_type": "code",
   "execution_count": 189,
   "id": "ce80b4cb-7881-4726-bb76-ea05b2781b33",
   "metadata": {},
   "outputs": [],
   "source": [
    "df_mov['genres'] = df_mov['genres'].fillna(\"\").astype('str')"
   ]
  },
  {
   "cell_type": "code",
   "execution_count": 190,
   "id": "88dc860e-6cce-4a38-8dfb-c2a5a86352c9",
   "metadata": {},
   "outputs": [
    {
     "data": {
      "text/html": [
       "<div>\n",
       "<style scoped>\n",
       "    .dataframe tbody tr th:only-of-type {\n",
       "        vertical-align: middle;\n",
       "    }\n",
       "\n",
       "    .dataframe tbody tr th {\n",
       "        vertical-align: top;\n",
       "    }\n",
       "\n",
       "    .dataframe thead th {\n",
       "        text-align: right;\n",
       "    }\n",
       "</style>\n",
       "<table border=\"1\" class=\"dataframe\">\n",
       "  <thead>\n",
       "    <tr style=\"text-align: right;\">\n",
       "      <th></th>\n",
       "      <th>title</th>\n",
       "      <th>genres</th>\n",
       "    </tr>\n",
       "    <tr>\n",
       "      <th>movieId</th>\n",
       "      <th></th>\n",
       "      <th></th>\n",
       "    </tr>\n",
       "  </thead>\n",
       "  <tbody>\n",
       "    <tr>\n",
       "      <th>1</th>\n",
       "      <td>Toy Story</td>\n",
       "      <td>['Adventure', 'Animation', 'Children', 'Comedy...</td>\n",
       "    </tr>\n",
       "    <tr>\n",
       "      <th>2</th>\n",
       "      <td>Jumanji</td>\n",
       "      <td>['Adventure', 'Children', 'Fantasy']</td>\n",
       "    </tr>\n",
       "    <tr>\n",
       "      <th>3</th>\n",
       "      <td>Grumpier Old Men</td>\n",
       "      <td>['Comedy', 'Romance']</td>\n",
       "    </tr>\n",
       "    <tr>\n",
       "      <th>4</th>\n",
       "      <td>Waiting to Exhale</td>\n",
       "      <td>['Comedy', 'Drama', 'Romance']</td>\n",
       "    </tr>\n",
       "    <tr>\n",
       "      <th>5</th>\n",
       "      <td>Father of the Bride Part II</td>\n",
       "      <td>['Comedy']</td>\n",
       "    </tr>\n",
       "  </tbody>\n",
       "</table>\n",
       "</div>"
      ],
      "text/plain": [
       "                               title  \\\n",
       "movieId                                \n",
       "1                          Toy Story   \n",
       "2                            Jumanji   \n",
       "3                   Grumpier Old Men   \n",
       "4                  Waiting to Exhale   \n",
       "5        Father of the Bride Part II   \n",
       "\n",
       "                                                    genres  \n",
       "movieId                                                     \n",
       "1        ['Adventure', 'Animation', 'Children', 'Comedy...  \n",
       "2                     ['Adventure', 'Children', 'Fantasy']  \n",
       "3                                    ['Comedy', 'Romance']  \n",
       "4                           ['Comedy', 'Drama', 'Romance']  \n",
       "5                                               ['Comedy']  "
      ]
     },
     "execution_count": 190,
     "metadata": {},
     "output_type": "execute_result"
    }
   ],
   "source": [
    "df_mov.head()"
   ]
  },
  {
   "cell_type": "code",
   "execution_count": 191,
   "id": "c1be98e0-4bbc-4845-982a-3ca9223d503b",
   "metadata": {},
   "outputs": [],
   "source": [
    "df_mov['title'] = df_mov['title'].apply(str)"
   ]
  },
  {
   "cell_type": "code",
   "execution_count": 192,
   "id": "2afaac70-00dd-426d-96f5-49a40e0a8849",
   "metadata": {},
   "outputs": [
    {
     "data": {
      "text/plain": [
       "title     object\n",
       "genres    object\n",
       "dtype: object"
      ]
     },
     "execution_count": 192,
     "metadata": {},
     "output_type": "execute_result"
    }
   ],
   "source": [
    "df_mov.dtypes"
   ]
  },
  {
   "cell_type": "markdown",
   "id": "0f100edd-350e-490d-a347-3ab303a046fd",
   "metadata": {},
   "source": [
    "Remove any null or empty values. "
   ]
  },
  {
   "cell_type": "code",
   "execution_count": 193,
   "id": "55145af9-4928-4569-8c09-ebd3dc4e701c",
   "metadata": {},
   "outputs": [
    {
     "data": {
      "text/plain": [
       "title     False\n",
       "genres    False\n",
       "dtype: bool"
      ]
     },
     "execution_count": 193,
     "metadata": {},
     "output_type": "execute_result"
    }
   ],
   "source": [
    "df_mov.isna().any()"
   ]
  },
  {
   "cell_type": "markdown",
   "id": "0890dfbb-f8ac-47a6-b5da-91e9508be32f",
   "metadata": {},
   "source": [
    "Within the dataframe there are no null values"
   ]
  },
  {
   "cell_type": "markdown",
   "id": "9d0b05ac-7146-4546-bb55-2a646326f324",
   "metadata": {},
   "source": [
    "Remove any duplicates"
   ]
  },
  {
   "cell_type": "code",
   "execution_count": 194,
   "id": "6948ca3e-5cff-4704-8a66-92380409557a",
   "metadata": {},
   "outputs": [],
   "source": [
    "duplicates = df_mov[df_mov.duplicated(subset=['title'], keep='first')]"
   ]
  },
  {
   "cell_type": "code",
   "execution_count": 195,
   "id": "2301c711-6d3c-4d76-9933-18d07fbd5c2d",
   "metadata": {},
   "outputs": [
    {
     "data": {
      "text/plain": [
       "(286, 2)"
      ]
     },
     "execution_count": 195,
     "metadata": {},
     "output_type": "execute_result"
    }
   ],
   "source": [
    "duplicates.shape"
   ]
  },
  {
   "cell_type": "code",
   "execution_count": 196,
   "id": "e9dcac6b-56f8-4a23-a855-73d55b4b5cb6",
   "metadata": {},
   "outputs": [
    {
     "data": {
      "text/html": [
       "<div>\n",
       "<style scoped>\n",
       "    .dataframe tbody tr th:only-of-type {\n",
       "        vertical-align: middle;\n",
       "    }\n",
       "\n",
       "    .dataframe tbody tr th {\n",
       "        vertical-align: top;\n",
       "    }\n",
       "\n",
       "    .dataframe thead th {\n",
       "        text-align: right;\n",
       "    }\n",
       "</style>\n",
       "<table border=\"1\" class=\"dataframe\">\n",
       "  <thead>\n",
       "    <tr style=\"text-align: right;\">\n",
       "      <th></th>\n",
       "      <th>title</th>\n",
       "      <th>genres</th>\n",
       "    </tr>\n",
       "    <tr>\n",
       "      <th>movieId</th>\n",
       "      <th></th>\n",
       "      <th></th>\n",
       "    </tr>\n",
       "  </thead>\n",
       "  <tbody>\n",
       "    <tr>\n",
       "      <th>915</th>\n",
       "      <td>Sabrina</td>\n",
       "      <td>['Comedy', 'Romance']</td>\n",
       "    </tr>\n",
       "    <tr>\n",
       "      <th>1344</th>\n",
       "      <td>Cape Fear</td>\n",
       "      <td>['Crime', 'Drama', 'Thriller']</td>\n",
       "    </tr>\n",
       "    <tr>\n",
       "      <th>1460</th>\n",
       "      <td>That Darn Cat</td>\n",
       "      <td>['Children', 'Comedy', 'Mystery']</td>\n",
       "    </tr>\n",
       "    <tr>\n",
       "      <th>1873</th>\n",
       "      <td>Misrables Les</td>\n",
       "      <td>['Crime', 'Drama', 'Romance', 'War']</td>\n",
       "    </tr>\n",
       "    <tr>\n",
       "      <th>1941</th>\n",
       "      <td>Hamlet</td>\n",
       "      <td>['Drama']</td>\n",
       "    </tr>\n",
       "  </tbody>\n",
       "</table>\n",
       "</div>"
      ],
      "text/plain": [
       "                 title                                genres\n",
       "movieId                                                     \n",
       "915            Sabrina                 ['Comedy', 'Romance']\n",
       "1344         Cape Fear        ['Crime', 'Drama', 'Thriller']\n",
       "1460     That Darn Cat     ['Children', 'Comedy', 'Mystery']\n",
       "1873     Misrables Les  ['Crime', 'Drama', 'Romance', 'War']\n",
       "1941            Hamlet                             ['Drama']"
      ]
     },
     "execution_count": 196,
     "metadata": {},
     "output_type": "execute_result"
    }
   ],
   "source": [
    "duplicates.head()"
   ]
  },
  {
   "cell_type": "code",
   "execution_count": 197,
   "id": "13c91a91-7efc-4890-9840-626d38df37bc",
   "metadata": {},
   "outputs": [
    {
     "data": {
      "text/html": [
       "<div>\n",
       "<style scoped>\n",
       "    .dataframe tbody tr th:only-of-type {\n",
       "        vertical-align: middle;\n",
       "    }\n",
       "\n",
       "    .dataframe tbody tr th {\n",
       "        vertical-align: top;\n",
       "    }\n",
       "\n",
       "    .dataframe thead th {\n",
       "        text-align: right;\n",
       "    }\n",
       "</style>\n",
       "<table border=\"1\" class=\"dataframe\">\n",
       "  <thead>\n",
       "    <tr style=\"text-align: right;\">\n",
       "      <th></th>\n",
       "      <th>title</th>\n",
       "      <th>genres</th>\n",
       "    </tr>\n",
       "    <tr>\n",
       "      <th>movieId</th>\n",
       "      <th></th>\n",
       "      <th></th>\n",
       "    </tr>\n",
       "  </thead>\n",
       "  <tbody>\n",
       "    <tr>\n",
       "      <th>7</th>\n",
       "      <td>Sabrina</td>\n",
       "      <td>['Comedy', 'Romance']</td>\n",
       "    </tr>\n",
       "    <tr>\n",
       "      <th>915</th>\n",
       "      <td>Sabrina</td>\n",
       "      <td>['Comedy', 'Romance']</td>\n",
       "    </tr>\n",
       "  </tbody>\n",
       "</table>\n",
       "</div>"
      ],
      "text/plain": [
       "           title                 genres\n",
       "movieId                                \n",
       "7        Sabrina  ['Comedy', 'Romance']\n",
       "915      Sabrina  ['Comedy', 'Romance']"
      ]
     },
     "execution_count": 197,
     "metadata": {},
     "output_type": "execute_result"
    }
   ],
   "source": [
    "df_mov[df_mov['title'] == 'Sabrina']"
   ]
  },
  {
   "cell_type": "markdown",
   "id": "8f3e8b31-4875-4c87-92e9-9c91a6bcefca",
   "metadata": {},
   "source": [
    "Remove the duplicates"
   ]
  },
  {
   "cell_type": "code",
   "execution_count": 198,
   "id": "f3abbcb2-e756-48f4-8991-505ed5bb0f71",
   "metadata": {},
   "outputs": [],
   "source": [
    "df_mov.drop_duplicates(subset=['title'], keep='first', inplace=True)"
   ]
  },
  {
   "cell_type": "code",
   "execution_count": 199,
   "id": "13192317-d60e-4a3b-8bc4-ac6238e8fa33",
   "metadata": {},
   "outputs": [
    {
     "data": {
      "text/plain": [
       "(9456, 2)"
      ]
     },
     "execution_count": 199,
     "metadata": {},
     "output_type": "execute_result"
    }
   ],
   "source": [
    "df_mov.shape"
   ]
  },
  {
   "cell_type": "markdown",
   "id": "e3b26396-db08-4fb1-9115-d5cb546fd377",
   "metadata": {},
   "source": [
    "Re-index the dataframe"
   ]
  },
  {
   "cell_type": "code",
   "execution_count": 200,
   "id": "2910ffc8-9deb-4ae8-b336-fbe486aae06c",
   "metadata": {},
   "outputs": [],
   "source": [
    "df_mov = df_mov.reset_index()"
   ]
  },
  {
   "cell_type": "code",
   "execution_count": 201,
   "id": "43abae0a-981d-4ed3-87a8-af21ee161166",
   "metadata": {},
   "outputs": [
    {
     "data": {
      "text/html": [
       "<div>\n",
       "<style scoped>\n",
       "    .dataframe tbody tr th:only-of-type {\n",
       "        vertical-align: middle;\n",
       "    }\n",
       "\n",
       "    .dataframe tbody tr th {\n",
       "        vertical-align: top;\n",
       "    }\n",
       "\n",
       "    .dataframe thead th {\n",
       "        text-align: right;\n",
       "    }\n",
       "</style>\n",
       "<table border=\"1\" class=\"dataframe\">\n",
       "  <thead>\n",
       "    <tr style=\"text-align: right;\">\n",
       "      <th></th>\n",
       "      <th>movieId</th>\n",
       "      <th>title</th>\n",
       "      <th>genres</th>\n",
       "    </tr>\n",
       "  </thead>\n",
       "  <tbody>\n",
       "    <tr>\n",
       "      <th>9451</th>\n",
       "      <td>193581</td>\n",
       "      <td>Black Butler Book of the Atlantic</td>\n",
       "      <td>['Action', 'Animation', 'Comedy', 'Fantasy']</td>\n",
       "    </tr>\n",
       "    <tr>\n",
       "      <th>9452</th>\n",
       "      <td>193583</td>\n",
       "      <td>No Game No Life Zero</td>\n",
       "      <td>['Animation', 'Comedy', 'Fantasy']</td>\n",
       "    </tr>\n",
       "    <tr>\n",
       "      <th>9453</th>\n",
       "      <td>193585</td>\n",
       "      <td>Flint</td>\n",
       "      <td>['Drama']</td>\n",
       "    </tr>\n",
       "    <tr>\n",
       "      <th>9454</th>\n",
       "      <td>193587</td>\n",
       "      <td>Bungo Stray Dogs Dead Apple</td>\n",
       "      <td>['Action', 'Animation']</td>\n",
       "    </tr>\n",
       "    <tr>\n",
       "      <th>9455</th>\n",
       "      <td>193609</td>\n",
       "      <td>Andrew Dice Clay Dice Rules</td>\n",
       "      <td>['Comedy']</td>\n",
       "    </tr>\n",
       "  </tbody>\n",
       "</table>\n",
       "</div>"
      ],
      "text/plain": [
       "      movieId                              title  \\\n",
       "9451   193581  Black Butler Book of the Atlantic   \n",
       "9452   193583               No Game No Life Zero   \n",
       "9453   193585                              Flint   \n",
       "9454   193587        Bungo Stray Dogs Dead Apple   \n",
       "9455   193609        Andrew Dice Clay Dice Rules   \n",
       "\n",
       "                                            genres  \n",
       "9451  ['Action', 'Animation', 'Comedy', 'Fantasy']  \n",
       "9452            ['Animation', 'Comedy', 'Fantasy']  \n",
       "9453                                     ['Drama']  \n",
       "9454                       ['Action', 'Animation']  \n",
       "9455                                    ['Comedy']  "
      ]
     },
     "execution_count": 201,
     "metadata": {},
     "output_type": "execute_result"
    }
   ],
   "source": [
    "df_mov.tail()"
   ]
  },
  {
   "cell_type": "markdown",
   "id": "e1265e89-6531-4080-8d40-024e4c528606",
   "metadata": {},
   "source": [
    "## Text to vector form based on a Tfid Transformer\n",
    "\n",
    "Commonly used tool in NLP feature extraction and text mining. \n",
    "It stands fro Term Frequency-Inverse Document Frequency Vectorizer. \n",
    "Converts a collection of raw text into a matrix of TF-IDF features. A numerical representation suitable for machine learning algs. \n",
    "\n",
    "tf(t) = Number of times term t appears in a document/ Total number of terms in the document \\\n",
    "idf(t) = log(Total number of documents)/ Number of documents with term t in it \\\n",
    "`Tf-idf = tf * idf`"
   ]
  },
  {
   "cell_type": "code",
   "execution_count": 202,
   "id": "8441f69a-37c5-4f63-ac64-736b6fc4c4e0",
   "metadata": {},
   "outputs": [],
   "source": [
    "tf = TfidfVectorizer(analyzer='word',ngram_range=(1, 2),min_df=0.0, stop_words='english')"
   ]
  },
  {
   "cell_type": "code",
   "execution_count": 203,
   "id": "206f5f34-a734-457a-89ba-85d32f41def6",
   "metadata": {},
   "outputs": [],
   "source": [
    "tfidf_matrix = tf.fit_transform(df_mov['genres'])"
   ]
  },
  {
   "cell_type": "code",
   "execution_count": 204,
   "id": "c82528f3-9733-499d-aa5c-ff4c6e48534e",
   "metadata": {},
   "outputs": [
    {
     "data": {
      "text/plain": [
       "186"
      ]
     },
     "execution_count": 204,
     "metadata": {},
     "output_type": "execute_result"
    }
   ],
   "source": [
    "len(tf.vocabulary_)"
   ]
  },
  {
   "cell_type": "code",
   "execution_count": 205,
   "id": "c5f50dfc-c003-40a8-bf48-c14da907bc54",
   "metadata": {},
   "outputs": [
    {
     "data": {
      "text/plain": [
       "(9456, 186)"
      ]
     },
     "execution_count": 205,
     "metadata": {},
     "output_type": "execute_result"
    }
   ],
   "source": [
    "tfidf_matrix.shape"
   ]
  },
  {
   "cell_type": "markdown",
   "id": "3b127c97-99e6-419d-8deb-1561f880f85b",
   "metadata": {},
   "source": [
    "## Similarity Measurement\n",
    "This is the measure of how close the individual words in the vocabulary are to one another based on their vector form. \n",
    "Testing both cosine similarity and euclidian distance"
   ]
  },
  {
   "cell_type": "code",
   "execution_count": 206,
   "id": "c88ea5e5-0767-4033-a01d-bc882db54fbe",
   "metadata": {},
   "outputs": [],
   "source": [
    "cosine_sim = cosine_similarity(tfidf_matrix, tfidf_matrix)"
   ]
  },
  {
   "cell_type": "code",
   "execution_count": 207,
   "id": "d2b5ef73-7872-402e-9642-bc516e25681a",
   "metadata": {},
   "outputs": [
    {
     "data": {
      "text/plain": [
       "array([[1.        , 0.3147038 , 0.0607625 , 0.0523509 ],\n",
       "       [0.3147038 , 1.        , 0.        , 0.        ],\n",
       "       [0.0607625 , 0.        , 1.        , 0.35194245],\n",
       "       [0.0523509 , 0.        , 0.35194245, 1.        ]])"
      ]
     },
     "execution_count": 207,
     "metadata": {},
     "output_type": "execute_result"
    }
   ],
   "source": [
    "cosine_sim[:4, :4]"
   ]
  },
  {
   "cell_type": "code",
   "execution_count": 208,
   "id": "fed53e15-074a-4dbe-91b5-2a9079d5d52f",
   "metadata": {},
   "outputs": [],
   "source": [
    "eu_sim = euclidean_distances(tfidf_matrix, tfidf_matrix)"
   ]
  },
  {
   "cell_type": "code",
   "execution_count": 209,
   "id": "53c4ccfc-cbb9-41ed-9cf8-3839d9390473",
   "metadata": {},
   "outputs": [
    {
     "data": {
      "text/plain": [
       "array([[0.        , 1.17072302, 1.37057469, 1.3766983 ],\n",
       "       [1.17072302, 0.        , 1.41421356, 1.41421356],\n",
       "       [1.37057469, 1.41421356, 0.        , 1.13847051],\n",
       "       [1.3766983 , 1.41421356, 1.13847051, 0.        ]])"
      ]
     },
     "execution_count": 209,
     "metadata": {},
     "output_type": "execute_result"
    }
   ],
   "source": [
    "eu_sim[:4, :4]"
   ]
  },
  {
   "cell_type": "markdown",
   "id": "c2046fdd-e259-43e1-9db4-d287c43163af",
   "metadata": {},
   "source": [
    "## Recommendation System\n",
    "Based on a given movie title, recommend the most similar movies based on the genres. "
   ]
  },
  {
   "cell_type": "code",
   "execution_count": 210,
   "id": "4bc8ab56-481e-4eac-aacf-499c21474842",
   "metadata": {},
   "outputs": [],
   "source": [
    "movie_titles = pd.Series(df_mov['title'].values, index=df_mov.index)"
   ]
  },
  {
   "cell_type": "code",
   "execution_count": 211,
   "id": "f94d60e7-4cd7-4832-be2d-954b48d82668",
   "metadata": {},
   "outputs": [
    {
     "data": {
      "text/plain": [
       "0                      Toy Story\n",
       "1                        Jumanji\n",
       "2               Grumpier Old Men\n",
       "3              Waiting to Exhale\n",
       "4    Father of the Bride Part II\n",
       "dtype: object"
      ]
     },
     "execution_count": 211,
     "metadata": {},
     "output_type": "execute_result"
    }
   ],
   "source": [
    "movie_titles.head()"
   ]
  },
  {
   "cell_type": "code",
   "execution_count": 212,
   "id": "2507f7ca-594b-44c3-b8a1-6c5dbe3a09b5",
   "metadata": {},
   "outputs": [],
   "source": [
    "indx = movie_titles[movie_titles == 'Dark Knight'].index[0]"
   ]
  },
  {
   "cell_type": "code",
   "execution_count": 213,
   "id": "9e7a6ffc-23e8-430f-ab5e-85c2c5b223a7",
   "metadata": {},
   "outputs": [
    {
     "data": {
      "text/plain": [
       "6554"
      ]
     },
     "execution_count": 213,
     "metadata": {},
     "output_type": "execute_result"
    }
   ],
   "source": [
    "indx"
   ]
  },
  {
   "cell_type": "code",
   "execution_count": 214,
   "id": "2d829396-bddd-4558-8277-0d7c23674c28",
   "metadata": {},
   "outputs": [],
   "source": [
    "test = list(enumerate(cosine_sim[1]))"
   ]
  },
  {
   "cell_type": "code",
   "execution_count": 215,
   "id": "f8ecf238-8800-447e-b01a-82eb5502acfd",
   "metadata": {},
   "outputs": [],
   "source": [
    "def genre_recommendations(similarity_matrix, title, movie_titles):\n",
    "    indx = movie_titles[movie_titles == title].index[0]  # Retrieve the movie titles index\n",
    "    ind_score_pair = list(enumerate(similarity_matrix[indx]))\n",
    "    sorted_ind_score_pair = sorted(ind_score_pair, key=lambda x: x[1], reverse=True)\n",
    "    top_ten = sorted_ind_score_pair[1:10]\n",
    "    top_ten_indices = [i[0] for i in top_ten]\n",
    "    return movie_titles[top_ten_indices]"
   ]
  },
  {
   "cell_type": "code",
   "execution_count": 216,
   "id": "c1ea8669-cc92-4fba-8166-2f9eaf755ca5",
   "metadata": {},
   "outputs": [
    {
     "data": {
      "text/plain": [
       "8157                     Need for Speed\n",
       "7931    Grandmaster The Yi dai zong shi\n",
       "123                           Apollo 13\n",
       "7813                         Life of Pi\n",
       "8166                               Noah\n",
       "38                      Dead Presidents\n",
       "341                         Bad Company\n",
       "347           Faster Pussycat Kill Kill\n",
       "430                   Menace II Society\n",
       "dtype: object"
      ]
     },
     "execution_count": 216,
     "metadata": {},
     "output_type": "execute_result"
    }
   ],
   "source": [
    "genre_recommendations(cosine_sim, 'Dark Knight', movie_titles)"
   ]
  }
 ],
 "metadata": {
  "kernelspec": {
   "display_name": "mias",
   "language": "python",
   "name": "mias"
  },
  "language_info": {
   "codemirror_mode": {
    "name": "ipython",
    "version": 3
   },
   "file_extension": ".py",
   "mimetype": "text/x-python",
   "name": "python",
   "nbconvert_exporter": "python",
   "pygments_lexer": "ipython3",
   "version": "3.10.12"
  }
 },
 "nbformat": 4,
 "nbformat_minor": 5
}
