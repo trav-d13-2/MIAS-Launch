{
 "cells": [
  {
   "cell_type": "code",
   "execution_count": 1,
   "id": "de2a0768-22dd-462f-b70d-271c4587cd17",
   "metadata": {},
   "outputs": [],
   "source": [
    "import pandas as pd\n",
    "import numpy as np\n",
    "import matplotlib.pyplot as plt"
   ]
  },
  {
   "cell_type": "markdown",
   "id": "3c956615-ec7c-4ab1-8559-d01977e0f81d",
   "metadata": {},
   "source": [
    "# Content Filtering Recommendation System\n",
    "A simple content filtering recommendation system to better understand the concepts. \\\n",
    "Source: https://github.com/BadreeshShetty/Learnings-to-make-Recommedations "
   ]
  },
  {
   "cell_type": "code",
   "execution_count": 122,
   "id": "464b8507-00f5-41be-81a4-56e3d07145ea",
   "metadata": {},
   "outputs": [],
   "source": [
    "df_mov = pd.read_csv('simple_rec_sys_data/movies.csv', index_col=0, encoding='latin-1', sep=',', dtype='string')"
   ]
  },
  {
   "cell_type": "code",
   "execution_count": 123,
   "id": "8bfd8bd9-82dd-4c58-b43f-185eb5b62a07",
   "metadata": {},
   "outputs": [
    {
     "data": {
      "text/html": [
       "<div>\n",
       "<style scoped>\n",
       "    .dataframe tbody tr th:only-of-type {\n",
       "        vertical-align: middle;\n",
       "    }\n",
       "\n",
       "    .dataframe tbody tr th {\n",
       "        vertical-align: top;\n",
       "    }\n",
       "\n",
       "    .dataframe thead th {\n",
       "        text-align: right;\n",
       "    }\n",
       "</style>\n",
       "<table border=\"1\" class=\"dataframe\">\n",
       "  <thead>\n",
       "    <tr style=\"text-align: right;\">\n",
       "      <th></th>\n",
       "      <th>title</th>\n",
       "      <th>genres</th>\n",
       "    </tr>\n",
       "    <tr>\n",
       "      <th>movieId</th>\n",
       "      <th></th>\n",
       "      <th></th>\n",
       "    </tr>\n",
       "  </thead>\n",
       "  <tbody>\n",
       "    <tr>\n",
       "      <th>1</th>\n",
       "      <td>Toy Story</td>\n",
       "      <td>Adventure|Animation|Children|Comedy|Fantasy</td>\n",
       "    </tr>\n",
       "    <tr>\n",
       "      <th>2</th>\n",
       "      <td>Jumanji</td>\n",
       "      <td>Adventure|Children|Fantasy</td>\n",
       "    </tr>\n",
       "    <tr>\n",
       "      <th>3</th>\n",
       "      <td>Grumpier Old Men</td>\n",
       "      <td>Comedy|Romance</td>\n",
       "    </tr>\n",
       "    <tr>\n",
       "      <th>4</th>\n",
       "      <td>Waiting to Exhale</td>\n",
       "      <td>Comedy|Drama|Romance</td>\n",
       "    </tr>\n",
       "    <tr>\n",
       "      <th>5</th>\n",
       "      <td>Father of the Bride Part II</td>\n",
       "      <td>Comedy</td>\n",
       "    </tr>\n",
       "  </tbody>\n",
       "</table>\n",
       "</div>"
      ],
      "text/plain": [
       "                                title  \\\n",
       "movieId                                 \n",
       "1                          Toy Story    \n",
       "2                            Jumanji    \n",
       "3                   Grumpier Old Men    \n",
       "4                  Waiting to Exhale    \n",
       "5        Father of the Bride Part II    \n",
       "\n",
       "                                              genres  \n",
       "movieId                                               \n",
       "1        Adventure|Animation|Children|Comedy|Fantasy  \n",
       "2                         Adventure|Children|Fantasy  \n",
       "3                                     Comedy|Romance  \n",
       "4                               Comedy|Drama|Romance  \n",
       "5                                             Comedy  "
      ]
     },
     "execution_count": 123,
     "metadata": {},
     "output_type": "execute_result"
    }
   ],
   "source": [
    "df_mov.head()"
   ]
  },
  {
   "cell_type": "code",
   "execution_count": 124,
   "id": "d3788673-2f53-4361-85a8-527b1dcf2b57",
   "metadata": {},
   "outputs": [
    {
     "data": {
      "text/plain": [
       "(9742, 2)"
      ]
     },
     "execution_count": 124,
     "metadata": {},
     "output_type": "execute_result"
    }
   ],
   "source": [
    "df_mov.shape"
   ]
  },
  {
   "cell_type": "code",
   "execution_count": 125,
   "id": "e4103d36-7d61-46dc-a3de-45c025e1901b",
   "metadata": {},
   "outputs": [
    {
     "data": {
      "text/plain": [
       "title     string[python]\n",
       "genres    string[python]\n",
       "dtype: object"
      ]
     },
     "execution_count": 125,
     "metadata": {},
     "output_type": "execute_result"
    }
   ],
   "source": [
    "df_mov.dtypes"
   ]
  },
  {
   "cell_type": "markdown",
   "id": "b177ba89-2937-4926-833a-69a7d05da98f",
   "metadata": {},
   "source": [
    "## Correct Data Structure\n",
    "- Correct genres string structure\n",
    "- Determine null values\n",
    "- Determine if duplicates exist"
   ]
  },
  {
   "cell_type": "markdown",
   "id": "2ef23800-e39b-4efb-ac65-5289d2dc6247",
   "metadata": {},
   "source": [
    "Split the genres string into a list"
   ]
  },
  {
   "cell_type": "code",
   "execution_count": 126,
   "id": "f29be4b1-edf7-4f88-a79e-059b317abacd",
   "metadata": {},
   "outputs": [],
   "source": [
    "df_mov['genres'] = df_mov['genres'].str.split('|')"
   ]
  },
  {
   "cell_type": "code",
   "execution_count": 130,
   "id": "88dc860e-6cce-4a38-8dfb-c2a5a86352c9",
   "metadata": {},
   "outputs": [
    {
     "data": {
      "text/html": [
       "<div>\n",
       "<style scoped>\n",
       "    .dataframe tbody tr th:only-of-type {\n",
       "        vertical-align: middle;\n",
       "    }\n",
       "\n",
       "    .dataframe tbody tr th {\n",
       "        vertical-align: top;\n",
       "    }\n",
       "\n",
       "    .dataframe thead th {\n",
       "        text-align: right;\n",
       "    }\n",
       "</style>\n",
       "<table border=\"1\" class=\"dataframe\">\n",
       "  <thead>\n",
       "    <tr style=\"text-align: right;\">\n",
       "      <th></th>\n",
       "      <th>title</th>\n",
       "      <th>genres</th>\n",
       "    </tr>\n",
       "    <tr>\n",
       "      <th>movieId</th>\n",
       "      <th></th>\n",
       "      <th></th>\n",
       "    </tr>\n",
       "  </thead>\n",
       "  <tbody>\n",
       "    <tr>\n",
       "      <th>1</th>\n",
       "      <td>Toy Story</td>\n",
       "      <td>[Adventure, Animation, Children, Comedy, Fantasy]</td>\n",
       "    </tr>\n",
       "    <tr>\n",
       "      <th>2</th>\n",
       "      <td>Jumanji</td>\n",
       "      <td>[Adventure, Children, Fantasy]</td>\n",
       "    </tr>\n",
       "    <tr>\n",
       "      <th>3</th>\n",
       "      <td>Grumpier Old Men</td>\n",
       "      <td>[Comedy, Romance]</td>\n",
       "    </tr>\n",
       "    <tr>\n",
       "      <th>4</th>\n",
       "      <td>Waiting to Exhale</td>\n",
       "      <td>[Comedy, Drama, Romance]</td>\n",
       "    </tr>\n",
       "    <tr>\n",
       "      <th>5</th>\n",
       "      <td>Father of the Bride Part II</td>\n",
       "      <td>[Comedy]</td>\n",
       "    </tr>\n",
       "  </tbody>\n",
       "</table>\n",
       "</div>"
      ],
      "text/plain": [
       "                                title  \\\n",
       "movieId                                 \n",
       "1                          Toy Story    \n",
       "2                            Jumanji    \n",
       "3                   Grumpier Old Men    \n",
       "4                  Waiting to Exhale    \n",
       "5        Father of the Bride Part II    \n",
       "\n",
       "                                                    genres  \n",
       "movieId                                                     \n",
       "1        [Adventure, Animation, Children, Comedy, Fantasy]  \n",
       "2                           [Adventure, Children, Fantasy]  \n",
       "3                                        [Comedy, Romance]  \n",
       "4                                 [Comedy, Drama, Romance]  \n",
       "5                                                 [Comedy]  "
      ]
     },
     "execution_count": 130,
     "metadata": {},
     "output_type": "execute_result"
    }
   ],
   "source": [
    "df_mov.head()"
   ]
  },
  {
   "cell_type": "markdown",
   "id": "0f100edd-350e-490d-a347-3ab303a046fd",
   "metadata": {},
   "source": [
    "Remove any null or empty values. "
   ]
  },
  {
   "cell_type": "code",
   "execution_count": 133,
   "id": "55145af9-4928-4569-8c09-ebd3dc4e701c",
   "metadata": {},
   "outputs": [
    {
     "data": {
      "text/plain": [
       "title     False\n",
       "genres    False\n",
       "dtype: bool"
      ]
     },
     "execution_count": 133,
     "metadata": {},
     "output_type": "execute_result"
    }
   ],
   "source": [
    "df_mov.isna().any()"
   ]
  },
  {
   "cell_type": "markdown",
   "id": "0890dfbb-f8ac-47a6-b5da-91e9508be32f",
   "metadata": {},
   "source": [
    "Within the dataframe there are no null values"
   ]
  },
  {
   "cell_type": "markdown",
   "id": "a1bb237f-012b-45b6-9058-210429724872",
   "metadata": {},
   "source": [
    "Check if there are any duplicate titles"
   ]
  }
 ],
 "metadata": {
  "kernelspec": {
   "display_name": "mias",
   "language": "python",
   "name": "mias"
  },
  "language_info": {
   "codemirror_mode": {
    "name": "ipython",
    "version": 3
   },
   "file_extension": ".py",
   "mimetype": "text/x-python",
   "name": "python",
   "nbconvert_exporter": "python",
   "pygments_lexer": "ipython3",
   "version": "3.10.12"
  }
 },
 "nbformat": 4,
 "nbformat_minor": 5
}
