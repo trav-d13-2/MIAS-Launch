{
 "cells": [
  {
   "cell_type": "code",
   "execution_count": 74,
   "id": "a37f8e02-786a-4559-bc8d-7e753fe285e1",
   "metadata": {},
   "outputs": [],
   "source": [
    "import pandas as pd\n",
    "import numpy as np\n",
    "import math\n",
    "import operator"
   ]
  },
  {
   "cell_type": "markdown",
   "id": "e269a34c-d5e9-485d-b405-6f1a176aaef7",
   "metadata": {},
   "source": [
    "# Collaborative Filtering Example\n",
    "Create a simple collaborative filtering recommender system. \n",
    "Below is the custom data for this system. \n",
    "\n",
    "All credits for the tutorial and data belong to: https://nbviewer.org/github/BadreeshShetty/Learnings-to-make-Recommedations/"
   ]
  },
  {
   "cell_type": "code",
   "execution_count": 2,
   "id": "9e8bf8bd-a97d-4824-8722-31e4107072e8",
   "metadata": {},
   "outputs": [],
   "source": [
    "reviews = {\n",
    "    'Marlon Brando': {\n",
    "    'The Godfather': 5.00, \n",
    "    'The Godfather Part II': 4.29,\n",
    "    'Apocalypse Now': 5.00, \n",
    "    'Jaws': 1.\n",
    "    },\n",
    "    'Stephen King': {\n",
    "    'The Shawshank Redemption': 4.89, \n",
    "    'The Shining': 4.93 , \n",
    "    'The Green Mile': 4.87,\n",
    "    'The Godfather': 1.33,\n",
    "    },\n",
    "    'Steven Spielberg': {\n",
    "    'Raiders of the Lost Ark': 5.0, \n",
    "    'Jaws': 4.89,\n",
    "    'Saving Private Ryan': 4.78, \n",
    "    'Star Wars Episode IV - A New Hope': 4.33,\n",
    "    'Close Encounters of the Third Kind': 4.77,\n",
    "    'The Godfather':  1.25,\n",
    "    'The Godfather Part II': 1.72\n",
    "    },\n",
    "    'George Lucas':{\n",
    "    'Star Wars Episode IV - A New Hope': 5.00\t\n",
    "    },\n",
    "    'Al Pacino': {\n",
    "    'The Godfather': 4.02, \n",
    "    'The Godfather Part II': 5.00,\n",
    "    },\n",
    "    'Robert DeNiro': {\n",
    "    'The Godfather': 3.07, \n",
    "    'The Godfather Part II': 4.29, \n",
    "    'Raging Bull': 5.00, \n",
    "    'Goodfellas':  4.89\n",
    "    },\n",
    "    'Robert Duvall': {\n",
    "    'The Godfather': 3.80, \n",
    "    'The Godfather Part II': 3.61,\n",
    "    'Apocalypse Now': 4.26 \n",
    "    },\n",
    "    'Jack Nicholson': {\n",
    "    'The Shining': 5.0,\n",
    "    'One Flew Over The Cuckoos Nest': 5.0,\n",
    "    'The Godfather': 2.22,\n",
    "    'The Godfather Part II': 3.34\n",
    "    },\n",
    "    'Morgan Freeman': {\n",
    "    'The Shawshank Redemption': 4.98,\n",
    "    'The Shining': 4.42,\n",
    "    'Apocalypse Now': 1.63,\n",
    "    'The Godfather': 1.12,\n",
    "    'The Godfather Part II': 2.16\n",
    "    },\n",
    "    'Harrison Ford': {\n",
    "    'Raiders of the Lost Ark': 5.0, \n",
    "    'Star Wars Episode IV - A New Hope': 4.84,\n",
    "    },\n",
    "    'Tom Hanks': {\n",
    "    'Saving Private Ryan': 3.78, \n",
    "    'The Green Mile': 4.96,\n",
    "    'The Godfather': 1.04,\n",
    "    'The Godfather Part II': 1.03\n",
    "    },\n",
    "    'Francis Ford Coppola': {\n",
    "    'The Godfather': 5.00, \n",
    "    'The Godfather Part II': 5.0, \n",
    "    'Jaws': 1.24,\n",
    "    'One Flew Over The Cuckoos Nest': 2.02\n",
    "    },\n",
    "    'Martin Scorsese': {\n",
    "    'Raging Bull': 5.0, \n",
    "    'Goodfellas': 4.87,\n",
    "    'Close Encounters of the Third Kind': 1.14,\n",
    "    'The Godfather': 4.00\n",
    "    },\n",
    "    'Diane Keaton': {\n",
    "    'The Godfather': 2.98,\n",
    "    'The Godfather Part II': 3.93,\n",
    "    'Close Encounters of the Third Kind': 1.37\n",
    "    },\n",
    "    'Richard Dreyfuss': {\n",
    "    'Jaws': 5.0, \n",
    "    'Close Encounters of the Third Kind': 5.0,\n",
    "    'The Godfather': 1.07,\n",
    "    'The Godfather Part II': 0.63\n",
    "    },\n",
    "    'Joe Pesci': {\n",
    "    'Raging Bull': 4.89, \n",
    "    'Goodfellas': 5.0,\n",
    "    'The Godfather': 4.87,\n",
    "    'Star Wars Episode IV - A New Hope': 1.32\n",
    "    }\n",
    "}\n"
   ]
  },
  {
   "cell_type": "markdown",
   "id": "74f31136-460a-4107-bdcb-a615f837080d",
   "metadata": {},
   "source": [
    "## Utility Function\n",
    "\n",
    "Utility function to get common movies between critics and their respective reviews"
   ]
  },
  {
   "cell_type": "code",
   "execution_count": 3,
   "id": "90887f70-e8a2-4ae2-ad6a-c96bea22a87b",
   "metadata": {},
   "outputs": [],
   "source": [
    "def get_common_movies(critic_a, critic_b, reviews):\n",
    "    review_a = reviews[critic_a]\n",
    "    review_b = reviews[critic_b]\n",
    "    return list(set(review_a) & set(review_b))"
   ]
  },
  {
   "cell_type": "code",
   "execution_count": 4,
   "id": "a9ae18ac-23e7-49fc-922e-a7da6de207a5",
   "metadata": {},
   "outputs": [
    {
     "data": {
      "text/plain": [
       "['The Godfather', 'The Godfather Part II']"
      ]
     },
     "execution_count": 4,
     "metadata": {},
     "output_type": "execute_result"
    }
   ],
   "source": [
    "get_common_movies('Marlon Brando','Robert DeNiro', reviews)"
   ]
  },
  {
   "cell_type": "code",
   "execution_count": 5,
   "id": "1ad847e6-a40b-41df-94bb-3566696ca841",
   "metadata": {},
   "outputs": [
    {
     "data": {
      "text/plain": [
       "['Saving Private Ryan', 'The Godfather', 'The Godfather Part II']"
      ]
     },
     "execution_count": 5,
     "metadata": {},
     "output_type": "execute_result"
    }
   ],
   "source": [
    "get_common_movies('Steven Spielberg','Tom Hanks', reviews)"
   ]
  },
  {
   "cell_type": "code",
   "execution_count": 6,
   "id": "07e6c3d5-a8d7-4567-85e3-c207e37d9fd0",
   "metadata": {},
   "outputs": [],
   "source": [
    "def get_reviews(critic_a, critic_b, reviews):\n",
    "    common_mov = get_common_movies(critic_a, critic_b, reviews)\n",
    "    return [(reviews[critic_a][movie], reviews[critic_b][movie]) for movie in common_mov]"
   ]
  },
  {
   "cell_type": "code",
   "execution_count": 7,
   "id": "da6a1dfa-37ec-4b7d-85f5-9274f706f3e2",
   "metadata": {},
   "outputs": [],
   "source": [
    "ex_reviews = get_reviews('Marlon Brando','Robert DeNiro', reviews)"
   ]
  },
  {
   "cell_type": "code",
   "execution_count": 8,
   "id": "9749e04b-8fea-4db5-af35-201fe3fbf41d",
   "metadata": {},
   "outputs": [
    {
     "name": "stdout",
     "output_type": "stream",
     "text": [
      "[(5.0, 3.07), (4.29, 4.29)]\n"
     ]
    }
   ],
   "source": [
    "print(ex_reviews)"
   ]
  },
  {
   "cell_type": "code",
   "execution_count": 9,
   "id": "19b18660-1e96-4b09-badf-939744089886",
   "metadata": {},
   "outputs": [],
   "source": [
    "ex_reviews_2 = get_reviews('Steven Spielberg','Tom Hanks', reviews)"
   ]
  },
  {
   "cell_type": "code",
   "execution_count": 10,
   "id": "05862f4a-665e-474f-857f-71d5d54c8463",
   "metadata": {},
   "outputs": [
    {
     "data": {
      "text/plain": [
       "[(4.78, 3.78), (1.25, 1.04), (1.72, 1.03)]"
      ]
     },
     "execution_count": 10,
     "metadata": {},
     "output_type": "execute_result"
    }
   ],
   "source": [
    "ex_reviews_2"
   ]
  },
  {
   "cell_type": "code",
   "execution_count": 18,
   "id": "8433ce3c-6a12-4736-8054-f2885828b1df",
   "metadata": {},
   "outputs": [],
   "source": [
    "def euclidean_distance(points):\n",
    "    squared_diffs = [(point[0] - point[1]) ** 2 for point in points]\n",
    "    summed_squared_diffs = sum(squared_diffs)\n",
    "    distance = math.sqrt(summed_squared_diffs)\n",
    "    return distance"
   ]
  },
  {
   "cell_type": "code",
   "execution_count": 19,
   "id": "f8c0547b-67f4-4cc6-a2d5-aacd7bfd0290",
   "metadata": {},
   "outputs": [
    {
     "data": {
      "text/plain": [
       "1.232963908636421"
      ]
     },
     "execution_count": 19,
     "metadata": {},
     "output_type": "execute_result"
    }
   ],
   "source": [
    "euclidean_distance(ex_reviews_2)"
   ]
  },
  {
   "cell_type": "markdown",
   "id": "18c63122-5932-49a3-8e6b-bbff27c16ce0",
   "metadata": {},
   "source": [
    "**Euclidian Distance Similairty:** Closer distance has higher score, equal distance is 1, and longer distance has less similarity."
   ]
  },
  {
   "cell_type": "code",
   "execution_count": 23,
   "id": "9074a609-b49b-4f96-a26e-4bfa41adb61c",
   "metadata": {},
   "outputs": [],
   "source": [
    "def similarity(common_reviews):\n",
    "    return 1/ (1 + euclidean_distance(common_reviews))"
   ]
  },
  {
   "cell_type": "code",
   "execution_count": 24,
   "id": "257d9768-be14-42f0-b5b7-f1aeeedeb322",
   "metadata": {},
   "outputs": [],
   "source": [
    "def get_critic_similarity(critic_a, critic_b, reviews):\n",
    "    common_reviews = get_reviews(critic_a, critic_b, reviews)\n",
    "    return similarity(common_reviews)"
   ]
  },
  {
   "cell_type": "code",
   "execution_count": 25,
   "id": "dc5e63b3-fe66-4a25-b7c6-9e67f458c075",
   "metadata": {},
   "outputs": [
    {
     "data": {
      "text/plain": [
       "0.341296928327645"
      ]
     },
     "execution_count": 25,
     "metadata": {},
     "output_type": "execute_result"
    }
   ],
   "source": [
    "get_critic_similarity('Marlon Brando','Robert DeNiro', reviews)"
   ]
  },
  {
   "cell_type": "code",
   "execution_count": 26,
   "id": "1955814e-c37f-4d50-8ebc-dc7b842162d3",
   "metadata": {},
   "outputs": [
    {
     "data": {
      "text/plain": [
       "0.4478352722730117"
      ]
     },
     "execution_count": 26,
     "metadata": {},
     "output_type": "execute_result"
    }
   ],
   "source": [
    "get_critic_similarity('Steven Spielberg','Tom Hanks', reviews)"
   ]
  },
  {
   "cell_type": "code",
   "execution_count": 27,
   "id": "694b8b36-5f65-4b90-b372-9475bbce9183",
   "metadata": {},
   "outputs": [
    {
     "data": {
      "text/plain": [
       "0.5300793497254199"
      ]
     },
     "execution_count": 27,
     "metadata": {},
     "output_type": "execute_result"
    }
   ],
   "source": [
    "get_critic_similarity('Martin Scorsese','Joe Pesci', reviews)"
   ]
  },
  {
   "cell_type": "markdown",
   "id": "c9a530e8-ac33-45d8-af4a-2fc67d82294e",
   "metadata": {},
   "source": [
    "## Recommendations"
   ]
  },
  {
   "cell_type": "code",
   "execution_count": 89,
   "id": "00ba8540-c7bd-48bd-ab2e-553d76fdeeeb",
   "metadata": {},
   "outputs": [],
   "source": [
    "def identify_critics_similarity(critic, no_suggestions, reviews):\n",
    "    similarity_scores = [(get_critic_similarity(critic, other, reviews), other) for other in reviews if other != critic]\n",
    "    similarity_scores.sort()\n",
    "    similarity_scores.reverse()\n",
    "    similarity_scores = similarity_scores[0:no_suggestions] \n",
    "    return similarity_scores\n",
    "\n",
    "\n",
    "def recommendations(similarity_scores, critic, reviews):\n",
    "    recommend = {}\n",
    "\n",
    "    for similarity, other_critic in similarity_scores:\n",
    "        review = reviews[other_critic]\n",
    "        for movie in review:\n",
    "            if movie not in reviews[critic]:\n",
    "                weight = similarity * review[movie]\n",
    "                if movie in recommend:\n",
    "                    sim, weights = recommend[movie]\n",
    "                    recommend[movie] = (sim + similarity, weights + [weight])  # Weights is a list of weights\n",
    "                else:\n",
    "                    recommend[movie] = (similarity, [weight])\n",
    "    return recommend\n",
    "\n",
    "\n",
    "def sort_recommendations(recommend):\n",
    "    norm_recommendations = {}\n",
    "    for rec_mov in recommend.keys():\n",
    "        similarity, mov_weights = recommend[rec_mov]\n",
    "        norm_recommendations[rec_mov] = sum(mov_weights) / similarity\n",
    "    return norm_recommendations\n",
    "\n",
    "def recommend_movies(critic, no_suggestions, reviews):\n",
    "    similarity_scores = identify_critics_similarity(critic, no_suggestions, reviews)\n",
    "    recommend = recommendations(similarity_scores, critic, reviews)\n",
    "    norm_recommend = sort_recommendations(recommend)\n",
    "\n",
    "    sorted_rec = sorted(norm_recommend.items(), key=operator.itemgetter(1), reverse=True)\n",
    "    return sorted_rec\n",
    "    "
   ]
  },
  {
   "cell_type": "code",
   "execution_count": 90,
   "id": "6455b384-be6f-4c33-a384-aa9abac82b0e",
   "metadata": {},
   "outputs": [
    {
     "data": {
      "text/plain": [
       "[('Goodfellas', 5.000000000000001),\n",
       " ('Raiders of the Lost Ark', 5.0),\n",
       " ('Raging Bull', 4.89),\n",
       " ('Star Wars Episode IV - A New Hope', 3.8157055214723923),\n",
       " ('One Flew Over The Cuckoos Nest', 2.02)]"
      ]
     },
     "execution_count": 90,
     "metadata": {},
     "output_type": "execute_result"
    }
   ],
   "source": [
    "recommend_movies('Marlon Brando',4, reviews)"
   ]
  },
  {
   "cell_type": "code",
   "execution_count": 91,
   "id": "5162e51f-b7d5-4d4d-bd6b-a81d2fbc9403",
   "metadata": {},
   "outputs": [
    {
     "data": {
      "text/plain": [
       "[('Raiders of the Lost Ark', 5.0),\n",
       " ('Star Wars Episode IV - A New Hope', 4.92),\n",
       " ('Close Encounters of the Third Kind', 1.2744773851327365)]"
      ]
     },
     "execution_count": 91,
     "metadata": {},
     "output_type": "execute_result"
    }
   ],
   "source": [
    "recommend_movies('Robert DeNiro',4, reviews)"
   ]
  },
  {
   "cell_type": "code",
   "execution_count": 92,
   "id": "1f1663d0-05c0-46c4-bd0e-bd1afcd5c93b",
   "metadata": {},
   "outputs": [
    {
     "data": {
      "text/plain": [
       "[('The Shawshank Redemption', 4.928285762244913),\n",
       " ('The Green Mile', 4.87),\n",
       " ('The Shining', 4.71304734727882),\n",
       " ('Apocalypse Now', 1.63)]"
      ]
     },
     "execution_count": 92,
     "metadata": {},
     "output_type": "execute_result"
    }
   ],
   "source": [
    "recommend_movies('Steven Spielberg',4, reviews)"
   ]
  },
  {
   "cell_type": "code",
   "execution_count": 93,
   "id": "b5fd4d5b-e6be-4564-8839-7286d59bee24",
   "metadata": {},
   "outputs": [
    {
     "data": {
      "text/plain": [
       "[('Raiders of the Lost Ark', 5.0),\n",
       " ('The Shining', 4.93),\n",
       " ('Star Wars Episode IV - A New Hope', 4.92),\n",
       " ('The Shawshank Redemption', 4.89)]"
      ]
     },
     "execution_count": 93,
     "metadata": {},
     "output_type": "execute_result"
    }
   ],
   "source": [
    "recommend_movies('Tom Hanks',3, reviews)"
   ]
  }
 ],
 "metadata": {
  "kernelspec": {
   "display_name": "mias",
   "language": "python",
   "name": "mias"
  },
  "language_info": {
   "codemirror_mode": {
    "name": "ipython",
    "version": 3
   },
   "file_extension": ".py",
   "mimetype": "text/x-python",
   "name": "python",
   "nbconvert_exporter": "python",
   "pygments_lexer": "ipython3",
   "version": "3.10.12"
  }
 },
 "nbformat": 4,
 "nbformat_minor": 5
}
